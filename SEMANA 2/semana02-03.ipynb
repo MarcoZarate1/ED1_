{
 "cells": [
  {
   "cell_type": "markdown",
   "metadata": {},
   "source": [
    "# SEMANA 02 \n",
    "MARCO ANTONIO ZARAATE PONTE"
   ]
  },
  {
   "cell_type": "markdown",
   "metadata": {},
   "source": [
    "TEMA \n",
    " 1. NUMEROS\n",
    " 2. VARIABLES\n",
    " 3. MANEJO DE CADENAS\n",
    " 4. INGRESO DE DATOS POR EL TECLADO\n",
    " 5. OPERADORES\n",
    "    \n",
    "    \n"
   ]
  },
  {
   "cell_type": "markdown",
   "metadata": {},
   "source": [
    "4. INGRESO DE DATOS POR EL TECLADO"
   ]
  },
  {
   "cell_type": "code",
   "execution_count": 1,
   "metadata": {},
   "outputs": [
    {
     "name": "stdout",
     "output_type": "stream",
     "text": [
      " ¿Cual es tu nombre?\n",
      "Marco\n",
      "hola Marco\n"
     ]
    }
   ],
   "source": [
    "# Funcion input()\n",
    "print ( \" ¿Cual es tu nombre?\")\n",
    "nombre = input()\n",
    "print ( \"hola \" + nombre)"
   ]
  },
  {
   "cell_type": "code",
   "execution_count": 12,
   "metadata": {},
   "outputs": [
    {
     "name": "stdout",
     "output_type": "stream",
     "text": [
      "numero 1: \n",
      "4\n",
      "numero 2: \n",
      "3\n",
      "El resultado es 7\n"
     ]
    }
   ],
   "source": [
    "# Cuando ingresa un valor por el teclado lo hace como cadena \n",
    "print (\"numero 1: \")\n",
    "numero1 = input()\n",
    "print(\"numero 2: \")\n",
    "numero2 = input()\n",
    "numero3 = int(numero1) + int(numero2)\n",
    "print(f\"El resultado es {numero3}\" )"
   ]
  },
  {
   "cell_type": "code",
   "execution_count": null,
   "metadata": {},
   "outputs": [],
   "source": []
  }
 ],
 "metadata": {
  "kernelspec": {
   "display_name": "Python 3",
   "language": "python",
   "name": "python3"
  },
  "language_info": {
   "codemirror_mode": {
    "name": "ipython",
    "version": 3
   },
   "file_extension": ".py",
   "mimetype": "text/x-python",
   "name": "python",
   "nbconvert_exporter": "python",
   "pygments_lexer": "ipython3",
   "version": "3.7.6"
  }
 },
 "nbformat": 4,
 "nbformat_minor": 4
}
